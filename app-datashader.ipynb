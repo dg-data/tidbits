{
 "cells": [
  {
   "cell_type": "code",
   "execution_count": null,
   "metadata": {},
   "outputs": [],
   "source": [
    "import numpy as np\n",
    "import pandas as pd\n",
    "import altair as alt\n",
    "import holoviews as hv\n",
    "import geoviews as gv\n",
    "import param as pm\n",
    "import panel as pn\n",
    "from colorcet import cm\n",
    "import datashader as ds\n",
    "from holoviews.operation.datashader import rasterize, shade\n",
    "from pyproj import Proj, transform"
   ]
  },
  {
   "cell_type": "code",
   "execution_count": null,
   "metadata": {},
   "outputs": [],
   "source": [
    "# Need the Vega extension\n",
    "pn.extension('vega')"
   ]
  },
  {
   "cell_type": "code",
   "execution_count": null,
   "metadata": {},
   "outputs": [],
   "source": [
    "# Altair and Holoviews rendering in Jupyter notebook\n",
    "alt.renderers.enable('default')\n",
    "hv.extension('bokeh')"
   ]
  },
  {
   "cell_type": "code",
   "execution_count": null,
   "metadata": {},
   "outputs": [],
   "source": [
    "# select necessary columns\n",
    "usecols = ['n° horodateur','date horodateur','montant carte','durée payée (h)']\n",
    "DATA = pd.read_csv(\"https://onedrive.live.com/download?cid=F1A01879C77A02B3&resid=F1A01879C77A02B3%21106&authkey=AKCxgVhALQhN_8c\",sep=';',usecols=usecols) #, header=None, error_bad_lines=False)\n",
    "# Trim data to avoid memory issues on Binder\n",
    "N = 100000\n",
    "DATA = DATA.sample(N)"
   ]
  },
  {
   "cell_type": "markdown",
   "metadata": {},
   "source": [
    "We'll load the whole data and when the user changes parameters, we'll filter the full dataset in our app according to the parameters."
   ]
  },
  {
   "cell_type": "code",
   "execution_count": null,
   "metadata": {},
   "outputs": [],
   "source": [
    "# The colormaps available\n",
    "cmaps = ['fire','kbc','bgy','bgyw','bmy','gray']\n",
    "# Options for the basemap\n",
    "opts = dict(xaxis=None, yaxis=None, bgcolor='ghostwhite', show_grid=False)\n",
    "geodata = pd.read_csv('https://opendata.paris.fr/explore/dataset/horodateurs-mobiliers/download/?format=csv',sep=';')\n",
    "horo = DATA.join(geodata.set_index(['numhoro']), on='n° horodateur', how='inner')\n",
    "horo.regime = horo.geo_point_2d.apply(lambda x: str(x).split(',')[0]).astype(np.float32)\n",
    "horo.geo_point_2d = horo.geo_point_2d.apply(lambda x: str(x).split(',')[1]).astype(np.float32)"
   ]
  },
  {
   "cell_type": "code",
   "execution_count": null,
   "metadata": {},
   "outputs": [],
   "source": [
    "# transform the data to show on the map\n",
    "horo.tarif = pd.to_datetime(horo[\"date horodateur\"], utc=True).dt.hour\n",
    "horo['geo_point_2d'], horo['regime'] = transform(Proj(init='epsg:4326'), Proj(init='epsg:3857'), horo['geo_point_2d'].tolist(), horo['regime'].tolist())"
   ]
  },
  {
   "cell_type": "code",
   "execution_count": null,
   "metadata": {},
   "outputs": [],
   "source": [
    "class HoroApp(pm.Parameterized):\n",
    "    \"\"\"\n",
    "    A Panel based dashboard app visualizing our data\n",
    "    The app has three components:\n",
    "        1. A datashaded heatmap\n",
    "        2. Some widgets controlling the data plotted\n",
    "        3. A bar chart of selected data\n",
    "    The bar chart is linked to the Holoviews map and only plots the data currently visible on the map.\n",
    "    \"\"\"\n",
    "    # Parameters\n",
    "    alpha = pm.Magnitude(default=0.75, doc='Alpha value for opacity')\n",
    "    cmap = pm.ObjectSelector(cm['fire'], objects={c: cm[c] for c in cmaps})\n",
    "    hour = pm.Range(default=(0, 24), bounds=(0, 24))\n",
    "    # Stream that gives the currently selected x_range/y_range of the map\n",
    "    box = hv.streams.RangeXY(x_range=None, y_range=None)\n",
    "\n",
    "    @pm.depends(\"hour\")\n",
    "    def points(self, x_range=None, y_range=None):\n",
    "        \"\"\"\n",
    "        Get a Holoviews points object for the data. \n",
    "        Before returning filter the points by hour and x,y range.\n",
    "        \"\"\"\n",
    "        # create the Points object holding all data\n",
    "        points = hv.Points(horo, kdims=[\"geo_point_2d\",\"regime\"], vdims=[\"tarif\"])\n",
    "\n",
    "        # trim according to user inputs\n",
    "        if self.hour != (0, 24):\n",
    "            points = points.select(selection_expr=self.hour[0] <= hv.dim('tarif') <= self.hour[1])\n",
    "\n",
    "        if x_range is not None:\n",
    "            points = points.select(**{\"geo_point_2d\": x_range})\n",
    "\n",
    "        if y_range is not None:\n",
    "            points = points.select(**{\"regime\": y_range})\n",
    "\n",
    "        return points\n",
    "\n",
    "    def heatmap(self, **kwargs):\n",
    "        \"\"\"\n",
    "        Return a datashaded heatmap of the data.\n",
    "        \"\"\"\n",
    "        # create a dynamic map and link the box selection to it\n",
    "        points = hv.DynamicMap(self.points, streams=[self.box])\n",
    "\n",
    "        # aggregate the points by counting them\n",
    "        aggregate = rasterize(points, x_sampling=1, y_sampling=1, width=800, height=400)\n",
    "\n",
    "        tiles = gv.tile_sources.CartoDark().apply.opts(alpha=self.param.alpha, **opts)\n",
    "\n",
    "        # datashaded heatmap\n",
    "        heatmap = tiles * shade(aggregate, cmap=self.param.cmap)\n",
    "\n",
    "        return heatmap.options(\n",
    "            default_tools=['save', 'pan', 'box_zoom', 'reset'],\n",
    "            active_tools=['box_zoom'],\n",
    "            width=600,\n",
    "            height=400,\n",
    "        )\n",
    "\n",
    "    @pm.depends(\"hour\", \"box.x_range\", \"box.y_range\")\n",
    "    def monthly_income(self):\n",
    "        \"\"\"\n",
    "        Return a plot showing the mean income by month.\n",
    "        This chart depends on the box selection's x,y range and will be \n",
    "        redrawn when the bounds are updated by the user.\n",
    "        \"\"\"\n",
    "        months = ['January', 'February', 'March', 'April','May','June', 'July', 'August','September', 'October', 'November', 'December']\n",
    "        # get the currently displayed points\n",
    "        points = self.points(x_range=self.box.x_range, y_range=self.box.y_range)\n",
    "\n",
    "        # Get the mean of income by months\n",
    "        df = (points.data['tarifhor']*points.data['durée payée (h)']).groupby(\n",
    "            pd.to_datetime(points.data['date horodateur'], utc=True).dt.month_name()).mean().rename_axis('Month').reindex(\n",
    "            months).reset_index(name='Mean income')\n",
    "        \n",
    "        # return the Altair chart\n",
    "        chart = (\n",
    "            alt.Chart(df)\n",
    "            .mark_bar()\n",
    "            .encode(x=alt.X('Month:O', sort=alt.EncodingSortField(field='Month:O')), y='Mean income')\n",
    "            .properties(width=500, height=300)\n",
    "        )\n",
    "\n",
    "        return pn.Pane(chart, width=800)"
   ]
  },
  {
   "cell_type": "code",
   "execution_count": null,
   "metadata": {},
   "outputs": [],
   "source": [
    "# initialize our app\n",
    "app = HoroApp(name=\"\")\n"
   ]
  },
  {
   "cell_type": "code",
   "execution_count": null,
   "metadata": {},
   "outputs": [],
   "source": [
    "# The app's title as an h2 element\n",
    "title = pn.pane.HTML(\n",
    "    '<h2>Visualizing with Datashader, Altair and Panel</h2>',\n",
    "    style={'width': '800px', 'text-align': 'center'},\n",
    ")\n",
    "hist_title = pn.pane.HTML(\n",
    "    '<h3>Income of the selected area by month</h3>',\n",
    "    style={'width': '800px', 'text-align': 'center'},\n",
    ")"
   ]
  },
  {
   "cell_type": "code",
   "execution_count": null,
   "metadata": {
    "scrolled": false
   },
   "outputs": [],
   "source": [
    "# Construct the dashboard\n",
    "panel = pn.Column(\n",
    "    pn.Row(title),\n",
    "    pn.Row(pn.Param(app.param, expand_button=False, width=200), app.heatmap()),\n",
    "    pn.Row(hist_title),\n",
    "    pn.Row(pn.Spacer(width=75), app.monthly_income),\n",
    "    align='center',\n",
    "    width=1200,\n",
    ")"
   ]
  },
  {
   "cell_type": "markdown",
   "metadata": {},
   "source": [
    "### Call servable() to render our Panel app\n",
    "\n",
    "This will:\n",
    "\n",
    "1. Render the dashboard in the notebook\n",
    "2. Enable the notebook to be served from `localhost`. (Execute `panel serve --show app.ipynb` from the command line and the app running live at `http://localhost:5006/app`)"
   ]
  },
  {
   "cell_type": "code",
   "execution_count": null,
   "metadata": {},
   "outputs": [],
   "source": [
    "panel.servable()"
   ]
  },
  {
   "cell_type": "code",
   "execution_count": null,
   "metadata": {},
   "outputs": [],
   "source": []
  }
 ],
 "metadata": {
  "kernelspec": {
   "display_name": "Python 3",
   "language": "python",
   "name": "python3"
  },
  "language_info": {
   "codemirror_mode": {
    "name": "ipython",
    "version": 3
   },
   "file_extension": ".py",
   "mimetype": "text/x-python",
   "name": "python",
   "nbconvert_exporter": "python",
   "pygments_lexer": "ipython3",
   "version": "3.7.6"
  }
 },
 "nbformat": 4,
 "nbformat_minor": 2
}
